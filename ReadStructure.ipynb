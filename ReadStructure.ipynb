{
 "cells": [
  {
   "cell_type": "code",
   "execution_count": 19,
   "id": "459cf7e5-f6c1-48d2-a2ea-0222f155f638",
   "metadata": {},
   "outputs": [
    {
     "name": "stdout",
     "output_type": "stream",
     "text": [
      "Interpolated values at radius (R_sun^-1):  0.05\n",
      "Temperature (keV): 1.2773422160991632\n",
      "Density (g cm^-3): 126.32229289021356\n",
      "Electron number density (cm^-3): 6.756795131806424e+23\n"
     ]
    }
   ],
   "source": [
    "import pandas as pd\n",
    "import numpy as np\n",
    "from scipy.interpolate import interp1d\n",
    "\n",
    "# Define the headers as provided\n",
    "headers = [\n",
    "    \"R_sun\", \"mass_sun\", \"L_sun\", \"logR\", \"logT\", \"logP\", \"logRho\", \"Csound\", \"dm\",\n",
    "    \"nu_pp\", \"nu_pep\", \"nu_hep\", \"nu_7Be\", \"nu_8B\", \"nu_13N\", \"nu_15O\", \"nu_17F\",\n",
    "    \"log_ne\", \"H1\", \"He4\", \"He3\", \"C12\", \"C13\", \"N14\", \"N15\", \"O16\", \"O17\", \"O18\",\n",
    "    \"Ne\", \"Na\", \"Mg\", \"Al\", \"Si\", \"P\", \"S\", \"Cl\", \"Ar\", \"K\", \"Ca\", \"Sc\", \"Ti\", \"V\",\n",
    "    \"Cr\", \"Mn\", \"Fe\", \"Co\", \"Ni\"\n",
    "]\n",
    "\n",
    "# Read the file\n",
    "filename = \"struct+nu_SF3_MB22m.dat\"\n",
    "data = pd.read_csv(filename, sep='\\s+', names=headers, comment='#')\n",
    "\n",
    "# Extract relevant columns from the table data\n",
    "radius = data[\"R_sun\"].to_numpy()\n",
    "temperature = data[\"logT\"].to_numpy()\n",
    "density = data[\"logRho\"].to_numpy()\n",
    "pressure = data[\"logP\"].to_numpy()\n",
    "luminosity_fraction = data[\"L_sun\"].to_numpy()\n",
    "ne = data[\"log_ne\"].to_numpy()\n",
    "\n",
    "# Interpolate each quantity as a function of radius\n",
    "radius_interp_func = interp1d(radius, radius, kind='linear')\n",
    "temperature_interp_func = interp1d(radius, temperature, kind='linear')\n",
    "density_interp_func = interp1d(radius, density, kind='linear')\n",
    "pressure_interp_func = interp1d(radius, pressure, kind='linear')\n",
    "luminosity_interp_func = interp1d(radius, luminosity_fraction, kind='linear')\n",
    "ne_interp_func = interp1d(ne, ne, kind='linear')\n",
    "\n",
    "\n",
    "def get_temperature_at_radius(radius):\n",
    "    temperature_log_value = temperature_interp_func(radius)\n",
    "    temperature_value = 10**temperature_log_value * 0.862e-7\n",
    "    return temperature_value\n",
    "\n",
    "def get_density_at_radius(radius):\n",
    "    density_log_value = density_interp_func(radius)\n",
    "    density_value = 10**density_log_value\n",
    "    return density_value\n",
    "\n",
    "def get_ne_at_radius(radius):\n",
    "    ne_log_value = ne_interp_func(radius)\n",
    "    ne_value = 10**ne_log_value * 6.022e23\n",
    "    return ne_value\n",
    "\n",
    "# Example usage\n",
    "target_radius = 0.05  # Example radius\n",
    "temperature_at_radius = get_temperature_at_radius(target_radius)\n",
    "density_at_radius = get_density_at_radius(target_radius)\n",
    "ne_at_radius = get_ne_at_radius(target_radius)\n",
    "\n",
    "# Print interpolated values\n",
    "print(\"Interpolated values at radius (R_sun^-1): \", target_radius)\n",
    "print(\"Temperature (keV):\", temperature_at_radius)\n",
    "print(\"Density (g cm^-3):\", density_at_radius)\n",
    "print(\"Electron number density (cm^-3):\", ne_at_radius)\n"
   ]
  }
 ],
 "metadata": {
  "kernelspec": {
   "display_name": "Python 3 (ipykernel)",
   "language": "python",
   "name": "python3"
  },
  "language_info": {
   "codemirror_mode": {
    "name": "ipython",
    "version": 3
   },
   "file_extension": ".py",
   "mimetype": "text/x-python",
   "name": "python",
   "nbconvert_exporter": "python",
   "pygments_lexer": "ipython3",
   "version": "3.10.12"
  }
 },
 "nbformat": 4,
 "nbformat_minor": 5
}
